{
 "cells": [
  {
   "cell_type": "code",
   "execution_count": 11,
   "id": "ac2f25af",
   "metadata": {},
   "outputs": [
    {
     "name": "stdout",
     "output_type": "stream",
     "text": [
      "[0, 1, 2, 4, 5]\n",
      "{0, 1, 2, 4, 5}\n"
     ]
    }
   ],
   "source": [
    "#sort the list in descending order\n",
    "#-- assignment 2\n",
    "s = {1,2,0,4,5,5}\n",
    "l = []\n",
    "for i in s:\n",
    "    l.insert(0,i)\n",
    "l"
   ]
  },
  {
   "cell_type": "code",
   "execution_count": 14,
   "id": "28166768",
   "metadata": {},
   "outputs": [
    {
     "name": "stdout",
     "output_type": "stream",
     "text": [
      "enter the string1: \n",
      "there\n",
      "enter the string2: \n",
      "ether\n",
      "enter the string3: \n",
      "three\n",
      "the three strings are anagrams\n"
     ]
    }
   ],
   "source": [
    "#check the three strings are anagram or not\n",
    "#--- assignment 3\n",
    "s1 = input(\"enter the string1: \\n\")\n",
    "s2 = input(\"enter the string2: \\n\")\n",
    "s3 = input(\"enter the string3: \\n\")\n",
    "flag =  False\n",
    "if len(s1) == len(s2):\n",
    "    if len(s1) == len(s3):\n",
    "        if sorted(s1) == sorted(s2):\n",
    "            if sorted(s1) == sorted(s3):\n",
    "                flag = True\n",
    "            else:\n",
    "                flag = False\n",
    "        else:\n",
    "            flag = False\n",
    "if flag == True:\n",
    "    print(\"the three strings are anagrams\")\n",
    "else:\n",
    "    print(\"they are not anagrams\")\n",
    "\n"
   ]
  },
  {
   "cell_type": "code",
   "execution_count": 17,
   "id": "bb0217ec",
   "metadata": {},
   "outputs": [
    {
     "name": "stdout",
     "output_type": "stream",
     "text": [
      "1 2 6 7\n",
      "the missing numbers are [3, 4, 5]\n"
     ]
    }
   ],
   "source": [
    "\"\"\"\n",
    "Write a Program to find the numbers absent from a sequence of numbers e.g. [0,1,2,5] , \n",
    "step should be dynamic,missing number should be located based on the step\n",
    "\"\"\"\n",
    "#--- assignment 4\n",
    "\n",
    "l = list(map(int, input().split()))\n",
    "start = l[0]\n",
    "missing = []\n",
    "end = l[len(l)-1]\n",
    "for i in range(start,end+1):\n",
    "    if i not in l:\n",
    "        missing.append(i)\n",
    "print(\"the missing numbers are {}\".format(missing))\n",
    "        \n",
    "    \n",
    "\n"
   ]
  },
  {
   "cell_type": "code",
   "execution_count": 18,
   "id": "8314066f",
   "metadata": {},
   "outputs": [
    {
     "name": "stdout",
     "output_type": "stream",
     "text": [
      "5\n",
      "1\n",
      "1\n",
      "  2\n",
      "5\n",
      "   3\n",
      "1\n",
      "   3\n"
     ]
    }
   ],
   "source": [
    "#---------assignment 1\n",
    "\n",
    "t =(1,2,5,(5,8,9,(8,7,1,(5,1))))\n",
    "\n",
    "level = 0\n",
    "visited = []\n",
    "# print(t)\n",
    "for i in t:\n",
    "    if isinstance(i, tuple):\n",
    "        level+=1\n",
    "        for j in i:\n",
    "            if isinstance(j, tuple):\n",
    "                level+=1\n",
    "                for k in j:\n",
    "                    if isinstance(k, tuple):\n",
    "                        level+=1\n",
    "                        for l in k:\n",
    "                            if isinstance(l, tuple):\n",
    "                                level+=1\n",
    "                            elif l in visited:\n",
    "                                print(l)\n",
    "                                print(\" \"*level, end= \"\")\n",
    "                                print(level)      \n",
    "                    elif k in visited:\n",
    "                        print(k)\n",
    "                        print(\" \"*level, end= \"\")\n",
    "                        print(level)              \n",
    "            elif j in visited:\n",
    "                print(j)\n",
    "                \n",
    "                print(level)\n",
    "                continue\n",
    "                \n",
    "                \n",
    "#     print(i)\n",
    "    visited.append(i)\n",
    "\n",
    "# print(visited)"
   ]
  },
  {
   "cell_type": "code",
   "execution_count": null,
   "id": "edb55bb5",
   "metadata": {},
   "outputs": [],
   "source": []
  }
 ],
 "metadata": {
  "kernelspec": {
   "display_name": "Python 3 (ipykernel)",
   "language": "python",
   "name": "python3"
  },
  "language_info": {
   "codemirror_mode": {
    "name": "ipython",
    "version": 3
   },
   "file_extension": ".py",
   "mimetype": "text/x-python",
   "name": "python",
   "nbconvert_exporter": "python",
   "pygments_lexer": "ipython3",
   "version": "3.9.7"
  }
 },
 "nbformat": 4,
 "nbformat_minor": 5
}
