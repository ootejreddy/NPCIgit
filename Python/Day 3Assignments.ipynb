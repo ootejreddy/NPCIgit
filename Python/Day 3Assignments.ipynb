{
 "cells": [
  {
   "cell_type": "code",
   "execution_count": 7,
   "id": "7fe5e607",
   "metadata": {},
   "outputs": [
    {
     "name": "stdout",
     "output_type": "stream",
     "text": [
      "enter the operation to perform:\n",
      "div\n",
      "enter the number1: \n",
      "8\n",
      "enter the number2: \n",
      "4\n",
      "the result is: 2\n"
     ]
    }
   ],
   "source": [
    "#using lambda functions perform addition\n",
    "# ---- assignment1 ------\n",
    "def calculate(action):\n",
    "    if action == \"SUM\":\n",
    "        return lambda x,y: x+y\n",
    "    elif action == \"DIFF\":\n",
    "        return lambda x,y : x-y\n",
    "    elif action == \"MUL\":\n",
    "        return lambda x,y : x*y\n",
    "    elif action == \"DIV\":\n",
    "        return lambda x,y :x//y\n",
    "\n",
    "usr_input = input(\"enter the operation to perform:\\n\")\n",
    "num = int(input(\"enter the number1: \\n\"))\n",
    "num2 = int(input(\"enter the number2: \\n\"))\n",
    "usr_input = usr_input.upper()\n",
    "if usr_input == \"SUM\":\n",
    "    add = calculate(usr_input)\n",
    "    print(\"the result is: {}\".format(add(num,num2)))\n",
    "elif usr_input == \"DIFF\":\n",
    "    diff = calculate(usr_input)\n",
    "    print(\"the result is: {}\". format(diff(num,num2)))\n",
    "elif usr_input == \"MUL\":\n",
    "    mul = calculate(usr_input)\n",
    "    print(\"the result is: {}\".format(mul(num,num2)))\n",
    "elif usr_input == \"DIV\":\n",
    "    div = calculate(usr_input)\n",
    "    print(\"the result is: {}\".format(div(num,num2)))\n",
    "else:\n",
    "    print('can not be performed\\n')\n",
    "    \n",
    "\n",
    "    \n",
    "    "
   ]
  },
  {
   "cell_type": "code",
   "execution_count": 4,
   "id": "af64b6a5",
   "metadata": {},
   "outputs": [
    {
     "name": "stdout",
     "output_type": "stream",
     "text": [
      "enter how many elements you want to insert:\n",
      "3\n",
      "enter the element: 0\n",
      "1\n",
      "enter the element: 1\n",
      "0\n",
      "enter the element: 2\n",
      "5\n",
      "[1, 0, 5]\n",
      "dictionary created from list: {1: 1, 0: 0, 5: 5}\n",
      "dictionary sorted in descending order: {5: 5, 1: 1, 0: 0}\n"
     ]
    }
   ],
   "source": [
    "#Assignment 1(a)\n",
    "\"\"\"add a new element to the list - take the elements from the user\n",
    "   create a dict from the list\n",
    "   sort the dict in descending order\n",
    "\"\"\"\n",
    "\n",
    "l =[]\n",
    "_len = int(input(\"enter how many elements you want to insert:\\n\"))\n",
    "for i in range(_len):\n",
    "    value = int(input(\"enter the element: {}\\n\".format(i)))\n",
    "    l.append(value)\n",
    "print(l)\n",
    "d = {x:x for x in l} #creating dictionary from list\n",
    "print(\"dictionary created from list: {}\".format(d))\n",
    "reverse_list = sorted(l, reverse = True)\n",
    "d = {x:x for x in reverse_list}\n",
    "print(\"dictionary sorted in descending order: {}\".format(d))\n",
    "\n"
   ]
  },
  {
   "cell_type": "code",
   "execution_count": null,
   "id": "d074426f",
   "metadata": {},
   "outputs": [],
   "source": []
  },
  {
   "cell_type": "code",
   "execution_count": null,
   "id": "643e03c1",
   "metadata": {},
   "outputs": [],
   "source": []
  }
 ],
 "metadata": {
  "kernelspec": {
   "display_name": "Python 3 (ipykernel)",
   "language": "python",
   "name": "python3"
  },
  "language_info": {
   "codemirror_mode": {
    "name": "ipython",
    "version": 3
   },
   "file_extension": ".py",
   "mimetype": "text/x-python",
   "name": "python",
   "nbconvert_exporter": "python",
   "pygments_lexer": "ipython3",
   "version": "3.9.7"
  }
 },
 "nbformat": 4,
 "nbformat_minor": 5
}
