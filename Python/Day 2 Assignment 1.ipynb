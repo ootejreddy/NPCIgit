{
 "cells": [
  {
   "cell_type": "code",
   "execution_count": 23,
   "id": "13e96ab0",
   "metadata": {},
   "outputs": [
    {
     "name": "stdout",
     "output_type": "stream",
     "text": [
      "5\n",
      "level: 1\n",
      "1\n",
      "level: 2\n",
      "5\n",
      "level: 3\n",
      "1\n",
      "level: 3\n"
     ]
    }
   ],
   "source": [
    "t =(1,2,5,(5,8,9,(8,7,1,(5,1))))\n",
    "\n",
    "level = 0\n",
    "visited = []\n",
    "# print(t)\n",
    "for i in t:\n",
    "    if isinstance(i, tuple):\n",
    "        level+=1\n",
    "        for j in i:\n",
    "            if isinstance(j, tuple):\n",
    "                level+=1\n",
    "                for k in j:\n",
    "                    if isinstance(k, tuple):\n",
    "                        level+=1\n",
    "                        for l in k:\n",
    "                            if isinstance(l, tuple):\n",
    "                                level+=1\n",
    "                            elif l in visited:\n",
    "                                print(l)\n",
    "                                print(\" \"*level, end= \"\")\n",
    "                                print(level)      \n",
    "                    elif k in visited:\n",
    "                        print(k)\n",
    "                        print(\" \"*level, end= \"\")\n",
    "                        print(level)              \n",
    "            elif j in visited:\n",
    "                print(j)\n",
    "                \n",
    "                print(level)\n",
    "                continue\n",
    "                \n",
    "                \n",
    "#     print(i)\n",
    "    visited.append(i)\n",
    "\n",
    "# print(visited)"
   ]
  },
  {
   "cell_type": "code",
   "execution_count": null,
   "id": "0d182ec6",
   "metadata": {},
   "outputs": [],
   "source": []
  }
 ],
 "metadata": {
  "kernelspec": {
   "display_name": "Python 3 (ipykernel)",
   "language": "python",
   "name": "python3"
  },
  "language_info": {
   "codemirror_mode": {
    "name": "ipython",
    "version": 3
   },
   "file_extension": ".py",
   "mimetype": "text/x-python",
   "name": "python",
   "nbconvert_exporter": "python",
   "pygments_lexer": "ipython3",
   "version": "3.9.7"
  }
 },
 "nbformat": 4,
 "nbformat_minor": 5
}
