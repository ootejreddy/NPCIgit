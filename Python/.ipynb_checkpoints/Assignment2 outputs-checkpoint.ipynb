{
 "cells": [
  {
   "cell_type": "code",
   "execution_count": 1,
   "id": "35bb1f85",
   "metadata": {},
   "outputs": [
    {
     "name": "stdout",
     "output_type": "stream",
     "text": [
      "enter the height of the tower5\n",
      "    1 \n",
      "   2 2 \n",
      "  3 3 3 \n",
      " 4 4 4 4 \n",
      "5 5 5 5 5 \n",
      "row0:  1\n",
      "row1:  4\n",
      "row2:  9\n",
      "row3:  16\n",
      "row4:  25\n"
     ]
    }
   ],
   "source": [
    "#assignment 2 pattern output 1\n",
    "n = int(input(\"enter the height of the tower\"))\n",
    "k = n-1\n",
    "l = []\n",
    "for i in range(1, n+1):\n",
    "    for j in range(k):\n",
    "        print(\" \",end=\"\")\n",
    "    k = k-1\n",
    "    for j in range(0,i):\n",
    "        print(\"{}\".format(i), end=\" \")\n",
    "    print('\\r')\n",
    "    l.append(i*i)\n",
    "\n",
    "for i in range(len(l)):\n",
    "    print(\"row\"+str(i)+\": \",l[i])\n"
   ]
  },
  {
   "cell_type": "code",
   "execution_count": 3,
   "id": "ccc52189",
   "metadata": {},
   "outputs": [
    {
     "name": "stdout",
     "output_type": "stream",
     "text": [
      "enter the height of the tower5\n",
      "    1 \n",
      "   3 3 \n",
      "  5 5 5 \n",
      " 7 7 7 7 \n",
      "9 9 9 9 9 \n",
      "row0:  1\n",
      "row1:  6\n",
      "row2:  15\n",
      "row3:  28\n",
      "row4:  45\n"
     ]
    }
   ],
   "source": [
    "#assignment 2 pattern output 2\n",
    "n = int(input(\"enter the height of the tower\"))\n",
    "printNum=1\n",
    "k = n-1\n",
    "l = []\n",
    "for i in range(1, n+1):\n",
    "    for j in range(k):\n",
    "        print(\" \",end=\"\")\n",
    "    k = k-1\n",
    "    for j in range(0,i):\n",
    "        print(\"{}\".format(printNum), end=\" \")\n",
    "    print('\\r')\n",
    "    l.append(printNum*i)\n",
    "    printNum +=2\n",
    "\n",
    "for i in range(len(l)):\n",
    "    print(\"row\"+str(i)+\": \",l[i])\n",
    "\n"
   ]
  },
  {
   "cell_type": "code",
   "execution_count": null,
   "id": "21e9d35f",
   "metadata": {},
   "outputs": [],
   "source": []
  }
 ],
 "metadata": {
  "kernelspec": {
   "display_name": "Python 3 (ipykernel)",
   "language": "python",
   "name": "python3"
  },
  "language_info": {
   "codemirror_mode": {
    "name": "ipython",
    "version": 3
   },
   "file_extension": ".py",
   "mimetype": "text/x-python",
   "name": "python",
   "nbconvert_exporter": "python",
   "pygments_lexer": "ipython3",
   "version": "3.9.7"
  }
 },
 "nbformat": 4,
 "nbformat_minor": 5
}
