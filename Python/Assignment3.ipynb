{
 "cells": [
  {
   "cell_type": "code",
   "execution_count": 5,
   "id": "280b294f",
   "metadata": {},
   "outputs": [
    {
     "name": "stdout",
     "output_type": "stream",
     "text": [
      "enter the height of the tower5\n",
      "    1 \n",
      "   4 5 \n",
      "  7 8 9 \n",
      " 10 11 12 13 \n",
      "13 14 15 16 17 \n",
      "row0:  1\n",
      "row1:  9\n",
      "row2:  24\n",
      "row3:  46\n",
      "row4:  75\n"
     ]
    }
   ],
   "source": [
    "#assignment 3 pattern output 2\n",
    "\n",
    "n = int(input(\"enter the height of the tower\"))\n",
    "rowSum = 0\n",
    "printNum=1\n",
    "incrementRow = printNum\n",
    "k = n-1\n",
    "l = []\n",
    "for i in range(1, n+1):\n",
    "    for j in range(k):\n",
    "        print(\" \",end=\"\")\n",
    "    k = k-1\n",
    "    for j in range(0,i):\n",
    "        print(\"{}\".format(incrementRow), end=\" \")\n",
    "        rowSum += incrementRow\n",
    "        incrementRow+=1\n",
    "    print('\\r')\n",
    "    l.append(rowSum)\n",
    "    rowSum = 0\n",
    "    printNum +=3\n",
    "    incrementRow = printNum\n",
    "\n",
    "for i in range(len(l)):\n",
    "    print(\"row\"+str(i)+\": \",l[i])\n",
    "\n"
   ]
  },
  {
   "cell_type": "code",
   "execution_count": 22,
   "id": "e48f58a5",
   "metadata": {},
   "outputs": [
    {
     "name": "stdout",
     "output_type": "stream",
     "text": [
      "enter the height of the tower5\n",
      "    1 \n",
      "   4 5 \n",
      "  7 8 9 \n",
      " 10 11 12 13 \n",
      "13 14 15 16 17 \n",
      "[13, 14, 15, 16, 17]\n",
      "[10, 11, 12, 13, 0]\n",
      "[7, 8, 9, 0, 0]\n",
      "[4, 5, 0, 0, 0]\n",
      "[1, 0, 0, 0, 0]\n"
     ]
    }
   ],
   "source": [
    "#assignment 3  output pattern 3\n",
    "\n",
    "n = int(input(\"enter the height of the tower\"))\n",
    "rowSum = 0\n",
    "printNum=1\n",
    "incrementRow = printNum\n",
    "k = n-1\n",
    "rowList =[]\n",
    "matrix = []\n",
    "l = []\n",
    "for i in range(1, n+1):\n",
    "    for j in range(k):\n",
    "        print(\" \",end=\"\")\n",
    "    k = k-1\n",
    "    for j in range(0,i):\n",
    "        print(\"{}\".format(incrementRow), end=\" \")\n",
    "        rowList.append(incrementRow)\n",
    "        rowSum += incrementRow\n",
    "        incrementRow+=1\n",
    "    print('\\r')\n",
    "    matrix.append(rowList)\n",
    "    l.append(rowSum)\n",
    "    rowSum = 0\n",
    "    rowList = []\n",
    "    printNum +=3\n",
    "    incrementRow = printNum\n",
    "# for i in range(len(l)):\n",
    "#     print(\"row\"+str(i)+\": \",l[i])\n",
    "\n",
    "for i in range(0,n-1):\n",
    "    if i == 0:\n",
    "        for j in range(0,n-1):\n",
    "            matrix[i].append(0)\n",
    "    if i == 1:\n",
    "        for j in range(0,n-2):\n",
    "            matrix[i].append(0)\n",
    "    if i == 2:\n",
    "        for j in range(0,n-3):\n",
    "            matrix[i].append(0)\n",
    "    if i == 3:\n",
    "        for j in range(0,n-4):\n",
    "            matrix[i].append(0)\n",
    "        \n",
    "# print(matrix)\n",
    "for i in range(len(matrix)-1,-1,-1):\n",
    "    print(matrix[i])"
   ]
  },
  {
   "cell_type": "code",
   "execution_count": 23,
   "id": "4ebc03fc",
   "metadata": {},
   "outputs": [
    {
     "name": "stdout",
     "output_type": "stream",
     "text": [
      "enter the height of the tower5\n",
      "    1 \n",
      "   4 5 \n",
      "  7 8 9 \n",
      " 10 11 12 13 \n",
      "13 14 15 16 17 \n",
      "[169, 196, 225, 256, 289]\n",
      "[100, 121, 144, 169, 0]\n",
      "[49, 64, 81, 0, 0]\n",
      "[16, 25, 0, 0, 0]\n",
      "[1, 0, 0, 0, 0]\n"
     ]
    }
   ],
   "source": [
    "#assignment 3  output pattern 3\n",
    "\n",
    "n = int(input(\"enter the height of the tower\"))\n",
    "rowSum = 0\n",
    "printNum=1\n",
    "incrementRow = printNum\n",
    "k = n-1\n",
    "rowList =[]\n",
    "matrix = []\n",
    "l = []\n",
    "for i in range(1, n+1):\n",
    "    for j in range(k):\n",
    "        print(\" \",end=\"\")\n",
    "    k = k-1\n",
    "    for j in range(0,i):\n",
    "        print(\"{}\".format(incrementRow), end=\" \")\n",
    "        rowList.append(incrementRow*incrementRow)\n",
    "        rowSum += incrementRow\n",
    "        incrementRow+=1\n",
    "    print('\\r')\n",
    "    matrix.append(rowList)\n",
    "    l.append(rowSum)\n",
    "    rowSum = 0\n",
    "    rowList = []\n",
    "    printNum +=3\n",
    "    incrementRow = printNum\n",
    "for i in range(0,n-1):\n",
    "    if i == 0:\n",
    "        for j in range(0,n-1):\n",
    "            matrix[i].append(0)\n",
    "    if i == 1:\n",
    "        for j in range(0,n-2):\n",
    "            matrix[i].append(0)\n",
    "    if i == 2:\n",
    "        for j in range(0,n-3):\n",
    "            matrix[i].append(0)\n",
    "    if i == 3:\n",
    "        for j in range(0,n-4):\n",
    "            matrix[i].append(0)\n",
    "        \n",
    "# print(matrix)\n",
    "for i in range(len(matrix)-1,-1,-1):\n",
    "    print(matrix[i])"
   ]
  },
  {
   "cell_type": "code",
   "execution_count": null,
   "id": "c033e16c",
   "metadata": {},
   "outputs": [],
   "source": []
  }
 ],
 "metadata": {
  "kernelspec": {
   "display_name": "Python 3 (ipykernel)",
   "language": "python",
   "name": "python3"
  },
  "language_info": {
   "codemirror_mode": {
    "name": "ipython",
    "version": 3
   },
   "file_extension": ".py",
   "mimetype": "text/x-python",
   "name": "python",
   "nbconvert_exporter": "python",
   "pygments_lexer": "ipython3",
   "version": "3.9.7"
  }
 },
 "nbformat": 4,
 "nbformat_minor": 5
}
